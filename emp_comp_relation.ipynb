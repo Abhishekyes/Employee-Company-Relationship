{
  "nbformat": 4,
  "nbformat_minor": 0,
  "metadata": {
    "colab": {
      "name": "emp-comp- relation.ipynb",
      "provenance": [],
      "collapsed_sections": [
        "9nmZ18q4f7QT"
      ],
      "include_colab_link": true
    },
    "kernelspec": {
      "name": "python3",
      "display_name": "Python 3"
    },
    "language_info": {
      "name": "python"
    }
  },
  "cells": [
    {
      "cell_type": "markdown",
      "metadata": {
        "id": "view-in-github",
        "colab_type": "text"
      },
      "source": [
        "<a href=\"https://colab.research.google.com/github/Abhishekyes/Employee-Company-Relationship/blob/main/emp_comp_relation.ipynb\" target=\"_parent\"><img src=\"https://colab.research.google.com/assets/colab-badge.svg\" alt=\"Open In Colab\"/></a>"
      ]
    },
    {
      "cell_type": "code",
      "metadata": {
        "id": "UJU2UIvwnNu0"
      },
      "source": [
        "import numpy as np \n",
        "import matplotlib.pyplot as plt\n",
        "import pandas as pd"
      ],
      "execution_count": null,
      "outputs": []
    },
    {
      "cell_type": "code",
      "metadata": {
        "colab": {
          "base_uri": "https://localhost:8080/"
        },
        "id": "W9HvetLXojVq",
        "outputId": "6653ea93-0561-4c97-88dd-052c0b302af9"
      },
      "source": [
        "!wget https://raw.githubusercontent.com/gauravpks/ml-repo/master/HRDS/unit1.csv"
      ],
      "execution_count": null,
      "outputs": [
        {
          "output_type": "stream",
          "name": "stdout",
          "text": [
            "--2021-11-27 15:48:46--  https://raw.githubusercontent.com/gauravpks/ml-repo/master/HRDS/unit1.csv\n",
            "Resolving raw.githubusercontent.com (raw.githubusercontent.com)... 185.199.110.133, 185.199.111.133, 185.199.108.133, ...\n",
            "Connecting to raw.githubusercontent.com (raw.githubusercontent.com)|185.199.110.133|:443... connected.\n",
            "HTTP request sent, awaiting response... 200 OK\n",
            "Length: 633626 (619K) [text/plain]\n",
            "Saving to: ‘unit1.csv’\n",
            "\n",
            "\runit1.csv             0%[                    ]       0  --.-KB/s               \runit1.csv           100%[===================>] 618.78K  --.-KB/s    in 0.04s   \n",
            "\n",
            "2021-11-27 15:48:47 (13.8 MB/s) - ‘unit1.csv’ saved [633626/633626]\n",
            "\n"
          ]
        }
      ]
    },
    {
      "cell_type": "code",
      "metadata": {
        "colab": {
          "base_uri": "https://localhost:8080/",
          "height": 386
        },
        "id": "esCJNidavIjs",
        "outputId": "75462106-1689-495f-8634-872c4f7b8584"
      },
      "source": [
        "u1 = pd.read_csv('unit1.csv')\n",
        "u1.head(4)"
      ],
      "execution_count": null,
      "outputs": [
        {
          "output_type": "execute_result",
          "data": {
            "text/html": [
              "<div>\n",
              "<style scoped>\n",
              "    .dataframe tbody tr th:only-of-type {\n",
              "        vertical-align: middle;\n",
              "    }\n",
              "\n",
              "    .dataframe tbody tr th {\n",
              "        vertical-align: top;\n",
              "    }\n",
              "\n",
              "    .dataframe thead th {\n",
              "        text-align: right;\n",
              "    }\n",
              "</style>\n",
              "<table border=\"1\" class=\"dataframe\">\n",
              "  <thead>\n",
              "    <tr style=\"text-align: right;\">\n",
              "      <th></th>\n",
              "      <th>Employee ID</th>\n",
              "      <th>Data Effective Date</th>\n",
              "      <th>Employee\\nStatus\\n</th>\n",
              "      <th>Career Level \\n(1=lowest, 6=highest)\\n</th>\n",
              "      <th>Hired Date</th>\n",
              "      <th>Hired in FY\\n(Yes/No)</th>\n",
              "      <th>Termination Date</th>\n",
              "      <th>Terminated\\nin FY\\n(Yes/No)</th>\n",
              "      <th>Termination Type\\n(Voluntary or Involuntary Exit)</th>\n",
              "      <th>Job Start Date</th>\n",
              "      <th>Promoted\\nin FY\\n(Yes/No)</th>\n",
              "      <th>Birth Date</th>\n",
              "      <th>Age\\n(Years)</th>\n",
              "      <th>Tenure\\n(Years)</th>\n",
              "      <th>Time in\\nJob (Years)</th>\n",
              "      <th>Rating</th>\n",
              "      <th>Education\\n(Highest\\nDegree)</th>\n",
              "    </tr>\n",
              "  </thead>\n",
              "  <tbody>\n",
              "    <tr>\n",
              "      <th>0</th>\n",
              "      <td>A0001</td>\n",
              "      <td>31-12-2016</td>\n",
              "      <td>Active</td>\n",
              "      <td>1</td>\n",
              "      <td>12-09-2016</td>\n",
              "      <td>Yes</td>\n",
              "      <td>NaN</td>\n",
              "      <td>No</td>\n",
              "      <td>NaN</td>\n",
              "      <td>12-09-2016</td>\n",
              "      <td>NaN</td>\n",
              "      <td>21-09-1992</td>\n",
              "      <td>NaN</td>\n",
              "      <td>NaN</td>\n",
              "      <td>NaN</td>\n",
              "      <td>At Target</td>\n",
              "      <td>BA/BS</td>\n",
              "    </tr>\n",
              "    <tr>\n",
              "      <th>1</th>\n",
              "      <td>A0002</td>\n",
              "      <td>31-12-2016</td>\n",
              "      <td>Active</td>\n",
              "      <td>1</td>\n",
              "      <td>19-04-2016</td>\n",
              "      <td>Yes</td>\n",
              "      <td>NaN</td>\n",
              "      <td>No</td>\n",
              "      <td>NaN</td>\n",
              "      <td>19-04-2016</td>\n",
              "      <td>NaN</td>\n",
              "      <td>16-11-1993</td>\n",
              "      <td>NaN</td>\n",
              "      <td>NaN</td>\n",
              "      <td>NaN</td>\n",
              "      <td>At Target</td>\n",
              "      <td>BA/BS</td>\n",
              "    </tr>\n",
              "    <tr>\n",
              "      <th>2</th>\n",
              "      <td>A0003</td>\n",
              "      <td>31-12-2016</td>\n",
              "      <td>Active</td>\n",
              "      <td>1</td>\n",
              "      <td>14-03-2016</td>\n",
              "      <td>Yes</td>\n",
              "      <td>NaN</td>\n",
              "      <td>No</td>\n",
              "      <td>NaN</td>\n",
              "      <td>14-03-2016</td>\n",
              "      <td>NaN</td>\n",
              "      <td>26-11-1993</td>\n",
              "      <td>NaN</td>\n",
              "      <td>NaN</td>\n",
              "      <td>NaN</td>\n",
              "      <td>At Target</td>\n",
              "      <td>MA/MS</td>\n",
              "    </tr>\n",
              "    <tr>\n",
              "      <th>3</th>\n",
              "      <td>A0004</td>\n",
              "      <td>31-12-2016</td>\n",
              "      <td>Active</td>\n",
              "      <td>1</td>\n",
              "      <td>12-09-2016</td>\n",
              "      <td>Yes</td>\n",
              "      <td>NaN</td>\n",
              "      <td>No</td>\n",
              "      <td>NaN</td>\n",
              "      <td>12-09-2016</td>\n",
              "      <td>NaN</td>\n",
              "      <td>28-03-1993</td>\n",
              "      <td>NaN</td>\n",
              "      <td>NaN</td>\n",
              "      <td>NaN</td>\n",
              "      <td>At Target</td>\n",
              "      <td>BA/BS</td>\n",
              "    </tr>\n",
              "  </tbody>\n",
              "</table>\n",
              "</div>"
            ],
            "text/plain": [
              "  Employee ID Data Effective Date  ...     Rating  Education\\n(Highest\\nDegree)\n",
              "0       A0001          31-12-2016  ...  At Target                         BA/BS\n",
              "1       A0002          31-12-2016  ...  At Target                         BA/BS\n",
              "2       A0003          31-12-2016  ...  At Target                         MA/MS\n",
              "3       A0004          31-12-2016  ...  At Target                         BA/BS\n",
              "\n",
              "[4 rows x 17 columns]"
            ]
          },
          "metadata": {},
          "execution_count": 3
        }
      ]
    },
    {
      "cell_type": "code",
      "metadata": {
        "id": "zy2LH2tcvRYH"
      },
      "source": [
        "u1.info()"
      ],
      "execution_count": null,
      "outputs": []
    },
    {
      "cell_type": "code",
      "metadata": {
        "id": "xDEkCFiRvdlU"
      },
      "source": [
        "u1.rename(columns ={'Employee\\nStatus\\n':'Employee Status','Career Level \\n(1=lowest, 6=highest)\\n':'Career Level',\n",
        "                   'Hired in FY\\n(Yes/No)':'Hired in FY','Terminated\\nin FY\\n(Yes/No)':'Terminated',\n",
        "                   'Termination Type\\n(Voluntary or Involuntary Exit)':'Termination Type','Promoted\\nin FY\\n(Yes/No)':'Promoted',\n",
        "                   'Age\\n(Years)':'Age','Tenure\\n(Years)':'Tenure','Time in\\nJob (Years)':'Time in Job',\n",
        "                   'Education\\n(Highest\\nDegree)':'Education'},inplace = True)\n",
        "u1.head()\n"
      ],
      "execution_count": null,
      "outputs": []
    },
    {
      "cell_type": "code",
      "metadata": {
        "id": "fWysel3qwHrl"
      },
      "source": [
        "u1['Data Effective Date'] = pd.to_datetime(u1['Data Effective Date'])\n",
        "u1['Hired Date'] = pd.to_datetime(u1['Hired Date'])\n",
        "u1['Job Start Date'] = pd.to_datetime(u1['Job Start Date'])\n",
        "u1['Birth Date'] = pd.to_datetime(u1['Birth Date'])\n",
        "u1['Termination Date'] = pd.to_datetime(u1['Termination Date'])"
      ],
      "execution_count": null,
      "outputs": []
    },
    {
      "cell_type": "code",
      "metadata": {
        "id": "1Slft9Bixcdr"
      },
      "source": [
        "u1['Age'] = (u1['Data Effective Date'].apply(lambda x :x.year) - u1['Birth Date'].apply(lambda x :x.year))\n",
        "u1.head()"
      ],
      "execution_count": null,
      "outputs": []
    },
    {
      "cell_type": "code",
      "metadata": {
        "id": "2zE1aTpzx0EI"
      },
      "source": [
        "u1['Tenure'] = (u1['Data Effective Date'].apply(lambda x:x.year) - u1['Hired Date'].apply(lambda x:x.year))\n",
        "u1['Time in Job'] = (u1['Data Effective Date'].apply(lambda x:x.year) - u1['Job Start Date'].apply(lambda x:x.year))"
      ],
      "execution_count": null,
      "outputs": []
    },
    {
      "cell_type": "code",
      "metadata": {
        "id": "ZlQqZsZZziwQ"
      },
      "source": [
        "u1.head(703)"
      ],
      "execution_count": null,
      "outputs": []
    },
    {
      "cell_type": "code",
      "metadata": {
        "id": "7jbfNOERzm0H"
      },
      "source": [
        "u1 = u1.drop([4322,702])"
      ],
      "execution_count": null,
      "outputs": []
    },
    {
      "cell_type": "code",
      "metadata": {
        "id": "ooJgRZO5zyki"
      },
      "source": [
        "age_cnt = u1['Age'].value_counts()"
      ],
      "execution_count": null,
      "outputs": []
    },
    {
      "cell_type": "code",
      "metadata": {
        "id": "HRcRrVIJ0uT3"
      },
      "source": [
        "age_cnt"
      ],
      "execution_count": null,
      "outputs": []
    },
    {
      "cell_type": "code",
      "metadata": {
        "id": "N62Ai3cm0w30"
      },
      "source": [
        "def agegrp(x):\n",
        "  if x<= 20:\n",
        "    group = 'below 20'\n",
        "  elif x>=21 and x<= 30:\n",
        "    group = '21-30'\n",
        "  elif x>=31 and x<=40:\n",
        "    group = '31-40'\n",
        "  elif x>=41 and x<=50:\n",
        "    group = '41-50'\n",
        "  elif x>=51 and x<=60:\n",
        "    group = '51-60'\n",
        "  elif x>=61:\n",
        "    group = 'above 61'\n",
        "\n",
        "  return group"
      ],
      "execution_count": null,
      "outputs": []
    },
    {
      "cell_type": "code",
      "metadata": {
        "id": "qzwaMJSw12Y4"
      },
      "source": [
        "u1['Age Group'] = u1['Age'].apply(agegrp)\n",
        "u1.head(2)"
      ],
      "execution_count": null,
      "outputs": []
    },
    {
      "cell_type": "code",
      "metadata": {
        "id": "rKPq_-L82Ezw"
      },
      "source": [
        "agegrp_cnt = np.round(u1['Age Group'].value_counts(normalize = True)*100)\n",
        "agegrp_cnt"
      ],
      "execution_count": null,
      "outputs": []
    },
    {
      "cell_type": "code",
      "metadata": {
        "id": "jSfjJNkz2ZEY"
      },
      "source": [
        "plt.figure(figsize = (18,8))\n",
        "plt.bar(agegrp_cnt.keys().values,agegrp_cnt,color = 'green',width =0.5)\n",
        "plt.xlabel('Age group', fontweight = 'bold')\n",
        "plt.ylabel('percent of people',fontweight = 'bold')\n",
        "plt.title('age group');"
      ],
      "execution_count": null,
      "outputs": []
    },
    {
      "cell_type": "code",
      "metadata": {
        "id": "FFwfLyEa43mO"
      },
      "source": [
        "actv_count = u1[u1['Employee Status'] == 'Active']\n",
        "actv_count"
      ],
      "execution_count": null,
      "outputs": []
    },
    {
      "cell_type": "code",
      "metadata": {
        "id": "4OBrf8b85LrY"
      },
      "source": [
        "termin_count = u1[u1['Employee Status'] == 'Terminated']\n",
        "termin_count"
      ],
      "execution_count": null,
      "outputs": []
    },
    {
      "cell_type": "markdown",
      "metadata": {
        "id": "9nmZ18q4f7QT"
      },
      "source": [
        "## **Active people EDA**"
      ]
    },
    {
      "cell_type": "code",
      "metadata": {
        "colab": {
          "base_uri": "https://localhost:8080/"
        },
        "id": "rrXuIvfj5YzZ",
        "outputId": "476e0f3c-6d94-4b82-c1da-8f959fa2dcb4"
      },
      "source": [
        "crlvl_act_cnt = np.round(actv_count['Career Level'].value_counts(normalize =True)*100)\n",
        "crlvl_act_cnt"
      ],
      "execution_count": null,
      "outputs": [
        {
          "output_type": "execute_result",
          "data": {
            "text/plain": [
              "3    20.0\n",
              "4    19.0\n",
              "2    19.0\n",
              "5    15.0\n",
              "1    15.0\n",
              "6    13.0\n",
              "Name: Career Level, dtype: float64"
            ]
          },
          "metadata": {},
          "execution_count": 25
        }
      ]
    },
    {
      "cell_type": "code",
      "metadata": {
        "id": "tFW6PVzJ5s2C"
      },
      "source": [
        "plt.figure(figsize=(18,8))\n",
        "plt.bar(crlvl_act_cnt.keys().values,crlvl_act_cnt,color = 'red',width =0.5)\n",
        "plt.xlabel('career lvl',fontweight = 'bold')\n",
        "plt.ylabel('percentage of people', fontweight = 'bold')\n",
        "plt.title('Active people aaccording to their career level');"
      ],
      "execution_count": null,
      "outputs": []
    },
    {
      "cell_type": "code",
      "metadata": {
        "id": "hrdVSb61F_I6"
      },
      "source": [
        "age_act_cnt = actv_count['Age'].value_counts()\n",
        "age_act_cnt"
      ],
      "execution_count": null,
      "outputs": []
    },
    {
      "cell_type": "code",
      "metadata": {
        "colab": {
          "base_uri": "https://localhost:8080/"
        },
        "id": "1ergMp6GGy-d",
        "outputId": "8b879ead-aacc-4d26-fe61-93a517fd01cd"
      },
      "source": [
        "agegrp_act_cnt = np.round(actv_count['Age Group'].value_counts(normalize = True)*100,2)\n",
        "agegrp_act_cnt"
      ],
      "execution_count": null,
      "outputs": [
        {
          "output_type": "execute_result",
          "data": {
            "text/plain": [
              "21-30    48.51\n",
              "31-40    32.00\n",
              "41-50    13.21\n",
              "51-60     6.27\n",
              "Name: Age Group, dtype: float64"
            ]
          },
          "metadata": {},
          "execution_count": 37
        }
      ]
    },
    {
      "cell_type": "code",
      "metadata": {
        "colab": {
          "base_uri": "https://localhost:8080/",
          "height": 226
        },
        "id": "SR-wKQ6FT3Nj",
        "outputId": "3419e93b-985d-4582-ef3a-863f7c265084"
      },
      "source": [
        "plt.figure(figsize = (5,3))\n",
        "plt.bar(agegrp_act_cnt.keys().values,agegrp_act_cnt,color = 'red',width =0.5)\n",
        "plt.xlabel('Age Group',fontweight = 'bold')\n",
        "plt.ylabel('Percentage of people');"
      ],
      "execution_count": null,
      "outputs": [
        {
          "output_type": "display_data",
          "data": {
            "image/png": "[encoded data removed]",
            "text/plain": [
              "<Figure size 360x216 with 1 Axes>"
            ]
          },
          "metadata": {
            "needs_background": "light"
          }
        }
      ]
    },
    {
      "cell_type": "code",
      "metadata": {
        "colab": {
          "base_uri": "https://localhost:8080/",
          "height": 201
        },
        "id": "-Cn12yOqVDem",
        "outputId": "b606f5c9-ce85-40c4-e65a-a78c79336e38"
      },
      "source": [
        "actv_count.head(2)"
      ],
      "execution_count": null,
      "outputs": [
        {
          "output_type": "execute_result",
          "data": {
            "text/html": [
              "<div>\n",
              "<style scoped>\n",
              "    .dataframe tbody tr th:only-of-type {\n",
              "        vertical-align: middle;\n",
              "    }\n",
              "\n",
              "    .dataframe tbody tr th {\n",
              "        vertical-align: top;\n",
              "    }\n",
              "\n",
              "    .dataframe thead th {\n",
              "        text-align: right;\n",
              "    }\n",
              "</style>\n",
              "<table border=\"1\" class=\"dataframe\">\n",
              "  <thead>\n",
              "    <tr style=\"text-align: right;\">\n",
              "      <th></th>\n",
              "      <th>Employee ID</th>\n",
              "      <th>Data Effective Date</th>\n",
              "      <th>Employee Status</th>\n",
              "      <th>Career Level</th>\n",
              "      <th>Hired Date</th>\n",
              "      <th>Hired in FY</th>\n",
              "      <th>Termination Date</th>\n",
              "      <th>Terminated</th>\n",
              "      <th>Termination Type</th>\n",
              "      <th>Job Start Date</th>\n",
              "      <th>Promoted</th>\n",
              "      <th>Birth Date</th>\n",
              "      <th>Age</th>\n",
              "      <th>Tenure</th>\n",
              "      <th>Time in Job</th>\n",
              "      <th>Rating</th>\n",
              "      <th>Education</th>\n",
              "      <th>Age Group</th>\n",
              "    </tr>\n",
              "  </thead>\n",
              "  <tbody>\n",
              "    <tr>\n",
              "      <th>0</th>\n",
              "      <td>A0001</td>\n",
              "      <td>2016-12-31</td>\n",
              "      <td>Active</td>\n",
              "      <td>1</td>\n",
              "      <td>2016-12-09</td>\n",
              "      <td>Yes</td>\n",
              "      <td>NaT</td>\n",
              "      <td>No</td>\n",
              "      <td>NaN</td>\n",
              "      <td>2016-12-09</td>\n",
              "      <td>NaN</td>\n",
              "      <td>1992-09-21</td>\n",
              "      <td>24</td>\n",
              "      <td>0</td>\n",
              "      <td>0</td>\n",
              "      <td>At Target</td>\n",
              "      <td>BA/BS</td>\n",
              "      <td>21-30</td>\n",
              "    </tr>\n",
              "    <tr>\n",
              "      <th>1</th>\n",
              "      <td>A0002</td>\n",
              "      <td>2016-12-31</td>\n",
              "      <td>Active</td>\n",
              "      <td>1</td>\n",
              "      <td>2016-04-19</td>\n",
              "      <td>Yes</td>\n",
              "      <td>NaT</td>\n",
              "      <td>No</td>\n",
              "      <td>NaN</td>\n",
              "      <td>2016-04-19</td>\n",
              "      <td>NaN</td>\n",
              "      <td>1993-11-16</td>\n",
              "      <td>23</td>\n",
              "      <td>0</td>\n",
              "      <td>0</td>\n",
              "      <td>At Target</td>\n",
              "      <td>BA/BS</td>\n",
              "      <td>21-30</td>\n",
              "    </tr>\n",
              "  </tbody>\n",
              "</table>\n",
              "</div>"
            ],
            "text/plain": [
              "  Employee ID Data Effective Date  ... Education  Age Group\n",
              "0       A0001          2016-12-31  ...     BA/BS      21-30\n",
              "1       A0002          2016-12-31  ...     BA/BS      21-30\n",
              "\n",
              "[2 rows x 18 columns]"
            ]
          },
          "metadata": {},
          "execution_count": 45
        }
      ]
    },
    {
      "cell_type": "code",
      "metadata": {
        "colab": {
          "base_uri": "https://localhost:8080/"
        },
        "id": "pgLk7PBqVYqY",
        "outputId": "0ef596e4-b588-4dc0-a7e3-c38b7438fcbb"
      },
      "source": [
        "actv_count['Education'].value_counts()"
      ],
      "execution_count": null,
      "outputs": [
        {
          "output_type": "execute_result",
          "data": {
            "text/plain": [
              "BA/BS    3398\n",
              "MA/MS    1208\n",
              "MBA      1152\n",
              "PhD        91\n",
              "JD         69\n",
              "Name: Education, dtype: int64"
            ]
          },
          "metadata": {},
          "execution_count": 46
        }
      ]
    },
    {
      "cell_type": "code",
      "metadata": {
        "colab": {
          "base_uri": "https://localhost:8080/"
        },
        "id": "-dzB8p4CVknl",
        "outputId": "cdc8f36b-dbd6-404f-836c-7de195c2db03"
      },
      "source": [
        "edu_act_cnt = np.round(actv_count['Education'].value_counts(normalize = True)*100,2)\n",
        "edu_act_cnt"
      ],
      "execution_count": null,
      "outputs": [
        {
          "output_type": "execute_result",
          "data": {
            "text/plain": [
              "BA/BS    57.42\n",
              "MA/MS    20.41\n",
              "MBA      19.47\n",
              "PhD       1.54\n",
              "JD        1.17\n",
              "Name: Education, dtype: float64"
            ]
          },
          "metadata": {},
          "execution_count": 47
        }
      ]
    },
    {
      "cell_type": "code",
      "metadata": {
        "colab": {
          "base_uri": "https://localhost:8080/",
          "height": 241
        },
        "id": "zBKPIJwrV1Iv",
        "outputId": "22f23c9b-cec1-4202-b0d7-e45cabe0a6b8"
      },
      "source": [
        "plt.figure(figsize =(8,3))\n",
        "plt.bar(edu_act_cnt.keys().values,edu_act_cnt,width = 0.8)\n",
        "plt.xlabel('Education Courses')\n",
        "plt.ylabel('active people')\n",
        "plt.title('education courses');"
      ],
      "execution_count": null,
      "outputs": [
        {
          "output_type": "display_data",
          "data": {
            "image/png": "[encoded data removed]",
            "text/plain": [
              "<Figure size 576x216 with 1 Axes>"
            ]
          },
          "metadata": {
            "needs_background": "light"
          }
        }
      ]
    },
    {
      "cell_type": "code",
      "metadata": {
        "colab": {
          "base_uri": "https://localhost:8080/",
          "height": 466
        },
        "id": "cQ-ygi_TWLiv",
        "outputId": "1687b8d9-d017-431a-90a1-f9b63a98d54b"
      },
      "source": [
        "plt.pie(edu_act_cnt.values,labels = edu_act_cnt.keys().values,explode= (0,0,0.03,0.1,0.05),autopct= '%.1f%%',startangle = 90,counterclock= False,\n",
        "        pctdistance = 0.5,shadow = True,radius = 2,rotatelabels = True,frame = False)\n",
        "plt.xlabel('\\n\\n\\n\\n\\n\\n\\n\\n  Highest Education of Active People',fontweight = 'bold');"
      ],
      "execution_count": null,
      "outputs": [
        {
          "output_type": "display_data",
          "data": {
            "image/png": "[encoded data removed]",
            "text/plain": [
              "<Figure size 432x288 with 1 Axes>"
            ]
          },
          "metadata": {}
        }
      ]
    },
    {
      "cell_type": "code",
      "metadata": {
        "colab": {
          "base_uri": "https://localhost:8080/",
          "height": 201
        },
        "id": "8InClDTyXlHk",
        "outputId": "3f3d7f55-607d-4365-da40-f6912152b1e5"
      },
      "source": [
        "actv_count.head(2)"
      ],
      "execution_count": null,
      "outputs": [
        {
          "output_type": "execute_result",
          "data": {
            "text/html": [
              "<div>\n",
              "<style scoped>\n",
              "    .dataframe tbody tr th:only-of-type {\n",
              "        vertical-align: middle;\n",
              "    }\n",
              "\n",
              "    .dataframe tbody tr th {\n",
              "        vertical-align: top;\n",
              "    }\n",
              "\n",
              "    .dataframe thead th {\n",
              "        text-align: right;\n",
              "    }\n",
              "</style>\n",
              "<table border=\"1\" class=\"dataframe\">\n",
              "  <thead>\n",
              "    <tr style=\"text-align: right;\">\n",
              "      <th></th>\n",
              "      <th>Employee ID</th>\n",
              "      <th>Data Effective Date</th>\n",
              "      <th>Employee Status</th>\n",
              "      <th>Career Level</th>\n",
              "      <th>Hired Date</th>\n",
              "      <th>Hired in FY</th>\n",
              "      <th>Termination Date</th>\n",
              "      <th>Terminated</th>\n",
              "      <th>Termination Type</th>\n",
              "      <th>Job Start Date</th>\n",
              "      <th>Promoted</th>\n",
              "      <th>Birth Date</th>\n",
              "      <th>Age</th>\n",
              "      <th>Tenure</th>\n",
              "      <th>Time in Job</th>\n",
              "      <th>Rating</th>\n",
              "      <th>Education</th>\n",
              "      <th>Age Group</th>\n",
              "    </tr>\n",
              "  </thead>\n",
              "  <tbody>\n",
              "    <tr>\n",
              "      <th>0</th>\n",
              "      <td>A0001</td>\n",
              "      <td>2016-12-31</td>\n",
              "      <td>Active</td>\n",
              "      <td>1</td>\n",
              "      <td>2016-12-09</td>\n",
              "      <td>Yes</td>\n",
              "      <td>NaT</td>\n",
              "      <td>No</td>\n",
              "      <td>NaN</td>\n",
              "      <td>2016-12-09</td>\n",
              "      <td>NaN</td>\n",
              "      <td>1992-09-21</td>\n",
              "      <td>24</td>\n",
              "      <td>0</td>\n",
              "      <td>0</td>\n",
              "      <td>At Target</td>\n",
              "      <td>BA/BS</td>\n",
              "      <td>21-30</td>\n",
              "    </tr>\n",
              "    <tr>\n",
              "      <th>1</th>\n",
              "      <td>A0002</td>\n",
              "      <td>2016-12-31</td>\n",
              "      <td>Active</td>\n",
              "      <td>1</td>\n",
              "      <td>2016-04-19</td>\n",
              "      <td>Yes</td>\n",
              "      <td>NaT</td>\n",
              "      <td>No</td>\n",
              "      <td>NaN</td>\n",
              "      <td>2016-04-19</td>\n",
              "      <td>NaN</td>\n",
              "      <td>1993-11-16</td>\n",
              "      <td>23</td>\n",
              "      <td>0</td>\n",
              "      <td>0</td>\n",
              "      <td>At Target</td>\n",
              "      <td>BA/BS</td>\n",
              "      <td>21-30</td>\n",
              "    </tr>\n",
              "  </tbody>\n",
              "</table>\n",
              "</div>"
            ],
            "text/plain": [
              "  Employee ID Data Effective Date  ... Education  Age Group\n",
              "0       A0001          2016-12-31  ...     BA/BS      21-30\n",
              "1       A0002          2016-12-31  ...     BA/BS      21-30\n",
              "\n",
              "[2 rows x 18 columns]"
            ]
          },
          "metadata": {},
          "execution_count": 95
        }
      ]
    },
    {
      "cell_type": "code",
      "metadata": {
        "colab": {
          "base_uri": "https://localhost:8080/"
        },
        "id": "al8vr9YUaGKU",
        "outputId": "8138e756-97a6-4696-c2f5-1924352ce09d"
      },
      "source": [
        "rtng_act_cnt = np.round(actv_count['Rating'].value_counts(normalize =True)*100,2)\n",
        "rtng_act_cnt"
      ],
      "execution_count": null,
      "outputs": [
        {
          "output_type": "execute_result",
          "data": {
            "text/plain": [
              "Above Target                  47.77\n",
              "At Target                     41.33\n",
              "Below Target                   5.61\n",
              "Significantly Above Target     5.20\n",
              "Significantly Below Target     0.08\n",
              "Name: Rating, dtype: float64"
            ]
          },
          "metadata": {},
          "execution_count": 96
        }
      ]
    },
    {
      "cell_type": "code",
      "metadata": {
        "colab": {
          "base_uri": "https://localhost:8080/",
          "height": 522
        },
        "id": "KI26eY4FbCYk",
        "outputId": "b8a7cd2a-9433-46d9-c7df-a7f9390a26f4"
      },
      "source": [
        "plt.pie(rtng_act_cnt.values,radius=2,labels = rtng_act_cnt.keys().values,\n",
        "        explode= (0,0,0.1,0.1,0.2),autopct = '%.1f%%',\n",
        "        startangle = 50,pctdistance= 0.5,shadow=True,\n",
        "        counterclock = True,frame = False,rotatelabels= True)\n",
        "plt.xlabel('\\n\\n\\n\\n\\n\\n\\n\\n\\n  Rating Of Active People',fontweight = 'bold');"
      ],
      "execution_count": null,
      "outputs": [
        {
          "output_type": "display_data",
          "data": {
            "image/png": "[encoded data removed]",
            "text/plain": [
              "<Figure size 432x288 with 1 Axes>"
            ]
          },
          "metadata": {}
        }
      ]
    },
    {
      "cell_type": "code",
      "metadata": {
        "colab": {
          "base_uri": "https://localhost:8080/",
          "height": 233
        },
        "id": "0EN7vWPWaeDo",
        "outputId": "84eaf34e-16d9-4a0b-b3db-73224abd13ea"
      },
      "source": [
        "plt.figure(figsize = (15,3))\n",
        "plt.bar(rtng_act_cnt.keys().values,rtng_act_cnt.values,width = 0.1)\n",
        "plt.xlabel('Target of active', fontweight = 'bold')\n",
        "plt.ylabel('Percentage of people', fontweight= 'bold')\n",
        "plt.title('Rating of active people', fontweight = 'bold')"
      ],
      "execution_count": null,
      "outputs": [
        {
          "output_type": "execute_result",
          "data": {
            "text/plain": [
              "Text(0.5, 1.0, 'Rating of active people')"
            ]
          },
          "metadata": {},
          "execution_count": 115
        },
        {
          "output_type": "display_data",
          "data": {
            "image/png": "[encoded data removed]",
            "text/plain": [
              "<Figure size 1080x216 with 1 Axes>"
            ]
          },
          "metadata": {
            "needs_background": "light"
          }
        }
      ]
    },
    {
      "cell_type": "code",
      "metadata": {
        "colab": {
          "base_uri": "https://localhost:8080/",
          "height": 201
        },
        "id": "3BBLhGl_a47a",
        "outputId": "abfc59bc-df0e-40f4-95a6-25ae26134585"
      },
      "source": [
        "actv_count.head(2)"
      ],
      "execution_count": null,
      "outputs": [
        {
          "output_type": "execute_result",
          "data": {
            "text/html": [
              "<div>\n",
              "<style scoped>\n",
              "    .dataframe tbody tr th:only-of-type {\n",
              "        vertical-align: middle;\n",
              "    }\n",
              "\n",
              "    .dataframe tbody tr th {\n",
              "        vertical-align: top;\n",
              "    }\n",
              "\n",
              "    .dataframe thead th {\n",
              "        text-align: right;\n",
              "    }\n",
              "</style>\n",
              "<table border=\"1\" class=\"dataframe\">\n",
              "  <thead>\n",
              "    <tr style=\"text-align: right;\">\n",
              "      <th></th>\n",
              "      <th>Employee ID</th>\n",
              "      <th>Data Effective Date</th>\n",
              "      <th>Employee Status</th>\n",
              "      <th>Career Level</th>\n",
              "      <th>Hired Date</th>\n",
              "      <th>Hired in FY</th>\n",
              "      <th>Termination Date</th>\n",
              "      <th>Terminated</th>\n",
              "      <th>Termination Type</th>\n",
              "      <th>Job Start Date</th>\n",
              "      <th>Promoted</th>\n",
              "      <th>Birth Date</th>\n",
              "      <th>Age</th>\n",
              "      <th>Tenure</th>\n",
              "      <th>Time in Job</th>\n",
              "      <th>Rating</th>\n",
              "      <th>Education</th>\n",
              "      <th>Age Group</th>\n",
              "    </tr>\n",
              "  </thead>\n",
              "  <tbody>\n",
              "    <tr>\n",
              "      <th>0</th>\n",
              "      <td>A0001</td>\n",
              "      <td>2016-12-31</td>\n",
              "      <td>Active</td>\n",
              "      <td>1</td>\n",
              "      <td>2016-12-09</td>\n",
              "      <td>Yes</td>\n",
              "      <td>NaT</td>\n",
              "      <td>No</td>\n",
              "      <td>NaN</td>\n",
              "      <td>2016-12-09</td>\n",
              "      <td>NaN</td>\n",
              "      <td>1992-09-21</td>\n",
              "      <td>24</td>\n",
              "      <td>0</td>\n",
              "      <td>0</td>\n",
              "      <td>At Target</td>\n",
              "      <td>BA/BS</td>\n",
              "      <td>21-30</td>\n",
              "    </tr>\n",
              "    <tr>\n",
              "      <th>1</th>\n",
              "      <td>A0002</td>\n",
              "      <td>2016-12-31</td>\n",
              "      <td>Active</td>\n",
              "      <td>1</td>\n",
              "      <td>2016-04-19</td>\n",
              "      <td>Yes</td>\n",
              "      <td>NaT</td>\n",
              "      <td>No</td>\n",
              "      <td>NaN</td>\n",
              "      <td>2016-04-19</td>\n",
              "      <td>NaN</td>\n",
              "      <td>1993-11-16</td>\n",
              "      <td>23</td>\n",
              "      <td>0</td>\n",
              "      <td>0</td>\n",
              "      <td>At Target</td>\n",
              "      <td>BA/BS</td>\n",
              "      <td>21-30</td>\n",
              "    </tr>\n",
              "  </tbody>\n",
              "</table>\n",
              "</div>"
            ],
            "text/plain": [
              "  Employee ID Data Effective Date  ... Education  Age Group\n",
              "0       A0001          2016-12-31  ...     BA/BS      21-30\n",
              "1       A0002          2016-12-31  ...     BA/BS      21-30\n",
              "\n",
              "[2 rows x 18 columns]"
            ]
          },
          "metadata": {},
          "execution_count": 116
        }
      ]
    },
    {
      "cell_type": "code",
      "metadata": {
        "colab": {
          "base_uri": "https://localhost:8080/"
        },
        "id": "WWNCQ1lQdtiI",
        "outputId": "029ba3f4-7686-4558-a582-307412fffe4e"
      },
      "source": [
        "actv_count['Promoted'].value_counts()"
      ],
      "execution_count": null,
      "outputs": [
        {
          "output_type": "execute_result",
          "data": {
            "text/plain": [
              "No     4054\n",
              "Yes     965\n",
              "Name: Promoted, dtype: int64"
            ]
          },
          "metadata": {},
          "execution_count": 117
        }
      ]
    },
    {
      "cell_type": "code",
      "metadata": {
        "colab": {
          "base_uri": "https://localhost:8080/"
        },
        "id": "jpyU4f6cd6mf",
        "outputId": "91f73fce-e42c-47b8-a3ab-4752a518cdbf"
      },
      "source": [
        "prmt_act_cnt = actv_count['Promoted'].value_counts()\n",
        "prmt_act_cnt"
      ],
      "execution_count": null,
      "outputs": [
        {
          "output_type": "execute_result",
          "data": {
            "text/plain": [
              "No     4054\n",
              "Yes     965\n",
              "Name: Promoted, dtype: int64"
            ]
          },
          "metadata": {},
          "execution_count": 118
        }
      ]
    },
    {
      "cell_type": "code",
      "metadata": {
        "colab": {
          "base_uri": "https://localhost:8080/"
        },
        "id": "gxbvT9pcefHV",
        "outputId": "4aa31e95-4593-4fd6-833f-4a51b89f72ac"
      },
      "source": [
        "prmt_act_cnt.keys().values"
      ],
      "execution_count": null,
      "outputs": [
        {
          "output_type": "execute_result",
          "data": {
            "text/plain": [
              "array(['No', 'Yes'], dtype=object)"
            ]
          },
          "metadata": {},
          "execution_count": 121
        }
      ]
    },
    {
      "cell_type": "code",
      "metadata": {
        "colab": {
          "base_uri": "https://localhost:8080/",
          "height": 415
        },
        "id": "_MVt57xreHNo",
        "outputId": "f6efcebb-1b47-4294-b9b4-917f84069de1"
      },
      "source": [
        "plt.pie(prmt_act_cnt.values,radius= 2 , labels= prmt_act_cnt.keys().values,autopct= '%.1f%%'\n",
        "         ,pctdistance =0.5,shadow = False,startangle = 50,counterclock = True,\n",
        "        rotatelabels = True,explode = (0,0.2))\n",
        "plt.xlabel('\\n\\n\\n\\n\\n\\n Promotion of Active People',fontweight = 'bold')"
      ],
      "execution_count": null,
      "outputs": [
        {
          "output_type": "execute_result",
          "data": {
            "text/plain": [
              "Text(0.5, 0, '\\n\\n\\n\\n\\n\\n Promotion of Active People')"
            ]
          },
          "metadata": {},
          "execution_count": 124
        },
        {
          "output_type": "display_data",
          "data": {
            "image/png": "[encoded data removed]",
            "text/plain": [
              "<Figure size 432x288 with 1 Axes>"
            ]
          },
          "metadata": {}
        }
      ]
    },
    {
      "cell_type": "code",
      "metadata": {
        "id": "c1hWYMUbeuvW"
      },
      "source": [
        ""
      ],
      "execution_count": null,
      "outputs": []
    },
    {
      "cell_type": "markdown",
      "metadata": {
        "id": "jYfCqVLpgFa6"
      },
      "source": [
        "##**Terminated people EDA**"
      ]
    },
    {
      "cell_type": "code",
      "metadata": {
        "colab": {
          "base_uri": "https://localhost:8080/"
        },
        "id": "C173bwNtgMMz",
        "outputId": "1151cb7f-9b49-46a5-feb2-d69383871862"
      },
      "source": [
        "crlvl_ter_cnt = np.round(termin_count['Career Level'].value_counts(normalize = True)*100,2)\n",
        "crlvl_ter_cnt"
      ],
      "execution_count": null,
      "outputs": [
        {
          "output_type": "execute_result",
          "data": {
            "text/plain": [
              "1    33.09\n",
              "2    26.96\n",
              "3    22.79\n",
              "4    10.78\n",
              "5     4.41\n",
              "6     1.96\n",
              "Name: Career Level, dtype: float64"
            ]
          },
          "metadata": {},
          "execution_count": 126
        }
      ]
    },
    {
      "cell_type": "code",
      "metadata": {
        "colab": {
          "base_uri": "https://localhost:8080/",
          "height": 403
        },
        "id": "H1iVv_F8gd5q",
        "outputId": "95a5d561-8ee4-4171-dc6b-8d161a637281"
      },
      "source": [
        "plt.figure(figsize = (12,6))\n",
        "plt.bar(crlvl_ter_cnt.keys().values,crlvl_ter_cnt,color = ('red','yellow','pink'),width = 0.5)\n",
        "plt.xlabel('Career Level Of Terminated ', fontweight = 'bold')\n",
        "plt.ylabel('Percentage of People',fontweight = 'bold')\n",
        "plt.title('Terminated people according to career lvl');"
      ],
      "execution_count": null,
      "outputs": [
        {
          "output_type": "display_data",
          "data": {
            "image/png": "[encoded data removed]",
            "text/plain": [
              "<Figure size 864x432 with 1 Axes>"
            ]
          },
          "metadata": {
            "needs_background": "light"
          }
        }
      ]
    },
    {
      "cell_type": "code",
      "metadata": {
        "colab": {
          "base_uri": "https://localhost:8080/",
          "height": 462
        },
        "id": "1HJYeo5_ir8K",
        "outputId": "fa021094-7103-412c-e651-d05f5010c61d"
      },
      "source": [
        "plt.pie(crlvl_ter_cnt.values,radius =2, labels = crlvl_ter_cnt.values,autopct = '%.1f%%',\n",
        "        pctdistance = 0.5,shadow = False,startangle = 50,rotatelabels = True,\n",
        "        explode = (0,0,0.1,0.05,0.05,0.1))\n",
        "plt.xlabel('\\n\\n\\n\\n\\n\\n\\n  Terminated People according to career', fontweight = 'bold')"
      ],
      "execution_count": null,
      "outputs": [
        {
          "output_type": "execute_result",
          "data": {
            "text/plain": [
              "Text(0.5, 0, '\\n\\n\\n\\n\\n\\n\\n  Terminated People according to career')"
            ]
          },
          "metadata": {},
          "execution_count": 148
        },
        {
          "output_type": "display_data",
          "data": {
            "image/png": "[encoded data removed]",
            "text/plain": [
              "<Figure size 432x288 with 1 Axes>"
            ]
          },
          "metadata": {}
        }
      ]
    },
    {
      "cell_type": "code",
      "metadata": {
        "colab": {
          "base_uri": "https://localhost:8080/"
        },
        "id": "baJ8DQw6hQ06",
        "outputId": "4949f4dc-7ab0-4481-8be4-1b441988bfae"
      },
      "source": [
        "agegrp_ter_cnt = np.round(termin_count['Age Group'].value_counts(normalize = True)*100,2)\n",
        "agegrp_ter_cnt"
      ],
      "execution_count": null,
      "outputs": [
        {
          "output_type": "execute_result",
          "data": {
            "text/plain": [
              "21-30       74.51\n",
              "31-40       20.59\n",
              "41-50        2.94\n",
              "51-60        1.72\n",
              "above 61     0.25\n",
              "Name: Age Group, dtype: float64"
            ]
          },
          "metadata": {},
          "execution_count": 149
        }
      ]
    },
    {
      "cell_type": "code",
      "metadata": {
        "colab": {
          "base_uri": "https://localhost:8080/",
          "height": 350
        },
        "id": "j-EqrvRViQQw",
        "outputId": "747203c7-22a8-461f-d3aa-627f86eeebf5"
      },
      "source": [
        "plt.figure(figsize= (10,5))\n",
        "plt.bar(agegrp_ter_cnt.keys().values,agegrp_ter_cnt,color = ('red','yellow','pink'),width = 0.2)\n",
        "plt.xlabel('Age Group ',fontweight = 'bold')\n",
        "plt.ylabel('Percent of People',fontweight = 'bold')\n",
        "plt.title('Age group varries in terminated People');"
      ],
      "execution_count": null,
      "outputs": [
        {
          "output_type": "display_data",
          "data": {
            "image/png": "[encoded data removed]",
            "text/plain": [
              "<Figure size 720x360 with 1 Axes>"
            ]
          },
          "metadata": {
            "needs_background": "light"
          }
        }
      ]
    },
    {
      "cell_type": "code",
      "metadata": {
        "colab": {
          "base_uri": "https://localhost:8080/",
          "height": 430
        },
        "id": "5bRb68b7klzk",
        "outputId": "f0c1935f-0bdf-4b1a-d24f-eac685945dca"
      },
      "source": [
        "plt.pie(agegrp_ter_cnt.values,radius = 2, labels = agegrp_ter_cnt.keys().values,autopct = '%.1f%%',pctdistance = 0.5,\n",
        "        startangle = 50,rotatelabels = True, shadow = True, counterclock = True,explode = (0,0.1,0.5,0.5,0.5));"
      ],
      "execution_count": null,
      "outputs": [
        {
          "output_type": "display_data",
          "data": {
            "image/png": "[encoded data removed]",
            "text/plain": [
              "<Figure size 432x288 with 1 Axes>"
            ]
          },
          "metadata": {}
        }
      ]
    },
    {
      "cell_type": "code",
      "metadata": {
        "colab": {
          "base_uri": "https://localhost:8080/"
        },
        "id": "gmZtjSEbl1Z1",
        "outputId": "7ee5fe78-a657-4e22-8fef-b6bc0b56ec23"
      },
      "source": [
        "edu_ter_cnt = np.round(termin_count['Education'].value_counts(normalize =True)*100,2)\n",
        "edu_ter_cnt"
      ],
      "execution_count": null,
      "outputs": [
        {
          "output_type": "execute_result",
          "data": {
            "text/plain": [
              "BA/BS    70.83\n",
              "MA/MS    15.69\n",
              "MBA      12.50\n",
              "PhD       0.74\n",
              "JD        0.25\n",
              "Name: Education, dtype: float64"
            ]
          },
          "metadata": {},
          "execution_count": 159
        }
      ]
    },
    {
      "cell_type": "code",
      "metadata": {
        "colab": {
          "base_uri": "https://localhost:8080/",
          "height": 422
        },
        "id": "72K9ZT2tmgze",
        "outputId": "35cb892c-2765-4eb8-c0cb-0b9367f38212"
      },
      "source": [
        "plt.pie(edu_ter_cnt.values, radius = 2,labels = edu_ter_cnt.keys().values,autopct = '%.1f%%',\n",
        "        pctdistance = 0.5,rotatelabels =True,startangle = 50, explode = (0,0.02,0.03,0.02,0.02))\n",
        "plt.xlabel('\\n\\n\\n\\n\\n\\n\\n\\n Highest education of terminated people',fontweight = 'bold');"
      ],
      "execution_count": null,
      "outputs": [
        {
          "output_type": "display_data",
          "data": {
            "image/png": "[encoded data removed]",
            "text/plain": [
              "<Figure size 432x288 with 1 Axes>"
            ]
          },
          "metadata": {}
        }
      ]
    },
    {
      "cell_type": "code",
      "metadata": {
        "colab": {
          "base_uri": "https://localhost:8080/"
        },
        "id": "dFbKjHgInCr8",
        "outputId": "9f20e6f2-1e0a-4869-ca67-ca0fa024d925"
      },
      "source": [
        "rtng_ter_cnt = np.round(termin_count['Rating'].value_counts(normalize = True)*100,2)\n",
        "rtng_act_cnt"
      ],
      "execution_count": null,
      "outputs": [
        {
          "output_type": "execute_result",
          "data": {
            "text/plain": [
              "Above Target                  47.77\n",
              "At Target                     41.33\n",
              "Below Target                   5.61\n",
              "Significantly Above Target     5.20\n",
              "Significantly Below Target     0.08\n",
              "Name: Rating, dtype: float64"
            ]
          },
          "metadata": {},
          "execution_count": 162
        }
      ]
    },
    {
      "cell_type": "code",
      "metadata": {
        "colab": {
          "base_uri": "https://localhost:8080/",
          "height": 545
        },
        "id": "fM1SKuOUnmYr",
        "outputId": "75f15727-a67b-41c9-fab8-7884cbadca8d"
      },
      "source": [
        "plt.pie(rtng_ter_cnt.values,radius = 2,labels= rtng_ter_cnt.keys().values,autopct = '%.1f%%',pctdistance = 0.5,\n",
        "        rotatelabels =True,startangle = 50,explode = (0,0.02,0.02,0.02,0.02))\n",
        "plt.xlabel('\\n\\n\\n\\n\\n\\n\\n\\n\\n\\n\\n\\n\\n  terminated people according to target', fontweight = 'bold');"
      ],
      "execution_count": null,
      "outputs": [
        {
          "output_type": "display_data",
          "data": {
            "image/png": "[encoded data removed]",
            "text/plain": [
              "<Figure size 432x288 with 1 Axes>"
            ]
          },
          "metadata": {}
        }
      ]
    },
    {
      "cell_type": "code",
      "metadata": {
        "colab": {
          "base_uri": "https://localhost:8080/"
        },
        "id": "t6Rp0QKroMUc",
        "outputId": "89fe3e09-d990-4261-efa8-0d7217cb988d"
      },
      "source": [
        "tertyp_cnt = termin_count['Termination Type'].value_counts()\n",
        "tertyp_cnt"
      ],
      "execution_count": null,
      "outputs": [
        {
          "output_type": "execute_result",
          "data": {
            "text/plain": [
              "Voluntary Exit      323\n",
              "Involuntary Exit     85\n",
              "Name: Termination Type, dtype: int64"
            ]
          },
          "metadata": {},
          "execution_count": 171
        }
      ]
    },
    {
      "cell_type": "code",
      "metadata": {
        "colab": {
          "base_uri": "https://localhost:8080/",
          "height": 427
        },
        "id": "SRgcAizNouHi",
        "outputId": "9415c554-d9cf-45f7-9db9-7aac9d06a45b"
      },
      "source": [
        "plt.pie(tertyp_cnt.values,radius = 2, labels =tertyp_cnt.keys().values,explode = (0,0.2),\n",
        "        autopct = '%.1f%%',pctdistance = 0.5,rotatelabels = True,startangle = 50)\n",
        "plt.xlabel('\\n\\n\\n\\n\\n\\n\\n Termination type')"
      ],
      "execution_count": null,
      "outputs": [
        {
          "output_type": "execute_result",
          "data": {
            "text/plain": [
              "Text(0.5, 0, '\\n\\n\\n\\n\\n\\n\\n Termination type')"
            ]
          },
          "metadata": {},
          "execution_count": 173
        },
        {
          "output_type": "display_data",
          "data": {
            "image/png": "[encoded data removed]",
            "text/plain": [
              "<Figure size 432x288 with 1 Axes>"
            ]
          },
          "metadata": {}
        }
      ]
    },
    {
      "cell_type": "code",
      "metadata": {
        "colab": {
          "base_uri": "https://localhost:8080/",
          "height": 201
        },
        "id": "yB1DKiaapJ93",
        "outputId": "6f78946f-1c5a-401d-850e-6807d49e8f04"
      },
      "source": [
        "u1.head(2)"
      ],
      "execution_count": null,
      "outputs": [
        {
          "output_type": "execute_result",
          "data": {
            "text/html": [
              "<div>\n",
              "<style scoped>\n",
              "    .dataframe tbody tr th:only-of-type {\n",
              "        vertical-align: middle;\n",
              "    }\n",
              "\n",
              "    .dataframe tbody tr th {\n",
              "        vertical-align: top;\n",
              "    }\n",
              "\n",
              "    .dataframe thead th {\n",
              "        text-align: right;\n",
              "    }\n",
              "</style>\n",
              "<table border=\"1\" class=\"dataframe\">\n",
              "  <thead>\n",
              "    <tr style=\"text-align: right;\">\n",
              "      <th></th>\n",
              "      <th>Employee ID</th>\n",
              "      <th>Data Effective Date</th>\n",
              "      <th>Employee Status</th>\n",
              "      <th>Career Level</th>\n",
              "      <th>Hired Date</th>\n",
              "      <th>Hired in FY</th>\n",
              "      <th>Termination Date</th>\n",
              "      <th>Terminated</th>\n",
              "      <th>Termination Type</th>\n",
              "      <th>Job Start Date</th>\n",
              "      <th>Promoted</th>\n",
              "      <th>Birth Date</th>\n",
              "      <th>Age</th>\n",
              "      <th>Tenure</th>\n",
              "      <th>Time in Job</th>\n",
              "      <th>Rating</th>\n",
              "      <th>Education</th>\n",
              "      <th>Age Group</th>\n",
              "    </tr>\n",
              "  </thead>\n",
              "  <tbody>\n",
              "    <tr>\n",
              "      <th>0</th>\n",
              "      <td>A0001</td>\n",
              "      <td>2016-12-31</td>\n",
              "      <td>Active</td>\n",
              "      <td>1</td>\n",
              "      <td>2016-12-09</td>\n",
              "      <td>Yes</td>\n",
              "      <td>NaT</td>\n",
              "      <td>No</td>\n",
              "      <td>NaN</td>\n",
              "      <td>2016-12-09</td>\n",
              "      <td>NaN</td>\n",
              "      <td>1992-09-21</td>\n",
              "      <td>24</td>\n",
              "      <td>0</td>\n",
              "      <td>0</td>\n",
              "      <td>At Target</td>\n",
              "      <td>BA/BS</td>\n",
              "      <td>21-30</td>\n",
              "    </tr>\n",
              "    <tr>\n",
              "      <th>1</th>\n",
              "      <td>A0002</td>\n",
              "      <td>2016-12-31</td>\n",
              "      <td>Active</td>\n",
              "      <td>1</td>\n",
              "      <td>2016-04-19</td>\n",
              "      <td>Yes</td>\n",
              "      <td>NaT</td>\n",
              "      <td>No</td>\n",
              "      <td>NaN</td>\n",
              "      <td>2016-04-19</td>\n",
              "      <td>NaN</td>\n",
              "      <td>1993-11-16</td>\n",
              "      <td>23</td>\n",
              "      <td>0</td>\n",
              "      <td>0</td>\n",
              "      <td>At Target</td>\n",
              "      <td>BA/BS</td>\n",
              "      <td>21-30</td>\n",
              "    </tr>\n",
              "  </tbody>\n",
              "</table>\n",
              "</div>"
            ],
            "text/plain": [
              "  Employee ID Data Effective Date  ... Education  Age Group\n",
              "0       A0001          2016-12-31  ...     BA/BS      21-30\n",
              "1       A0002          2016-12-31  ...     BA/BS      21-30\n",
              "\n",
              "[2 rows x 18 columns]"
            ]
          },
          "metadata": {},
          "execution_count": 174
        }
      ]
    },
    {
      "cell_type": "code",
      "metadata": {
        "colab": {
          "base_uri": "https://localhost:8080/",
          "height": 423
        },
        "id": "u9l2YEIIpYE1",
        "outputId": "3ed6b01a-3a23-4e49-ea4b-21699bb91cc6"
      },
      "source": [
        "u1[['Tenure', 'Time in Job']]"
      ],
      "execution_count": null,
      "outputs": [
        {
          "output_type": "execute_result",
          "data": {
            "text/html": [
              "<div>\n",
              "<style scoped>\n",
              "    .dataframe tbody tr th:only-of-type {\n",
              "        vertical-align: middle;\n",
              "    }\n",
              "\n",
              "    .dataframe tbody tr th {\n",
              "        vertical-align: top;\n",
              "    }\n",
              "\n",
              "    .dataframe thead th {\n",
              "        text-align: right;\n",
              "    }\n",
              "</style>\n",
              "<table border=\"1\" class=\"dataframe\">\n",
              "  <thead>\n",
              "    <tr style=\"text-align: right;\">\n",
              "      <th></th>\n",
              "      <th>Tenure</th>\n",
              "      <th>Time in Job</th>\n",
              "    </tr>\n",
              "  </thead>\n",
              "  <tbody>\n",
              "    <tr>\n",
              "      <th>0</th>\n",
              "      <td>0</td>\n",
              "      <td>0</td>\n",
              "    </tr>\n",
              "    <tr>\n",
              "      <th>1</th>\n",
              "      <td>0</td>\n",
              "      <td>0</td>\n",
              "    </tr>\n",
              "    <tr>\n",
              "      <th>2</th>\n",
              "      <td>0</td>\n",
              "      <td>0</td>\n",
              "    </tr>\n",
              "    <tr>\n",
              "      <th>3</th>\n",
              "      <td>0</td>\n",
              "      <td>0</td>\n",
              "    </tr>\n",
              "    <tr>\n",
              "      <th>4</th>\n",
              "      <td>0</td>\n",
              "      <td>0</td>\n",
              "    </tr>\n",
              "    <tr>\n",
              "      <th>...</th>\n",
              "      <td>...</td>\n",
              "      <td>...</td>\n",
              "    </tr>\n",
              "    <tr>\n",
              "      <th>6323</th>\n",
              "      <td>35</td>\n",
              "      <td>12</td>\n",
              "    </tr>\n",
              "    <tr>\n",
              "      <th>6324</th>\n",
              "      <td>36</td>\n",
              "      <td>11</td>\n",
              "    </tr>\n",
              "    <tr>\n",
              "      <th>6325</th>\n",
              "      <td>25</td>\n",
              "      <td>11</td>\n",
              "    </tr>\n",
              "    <tr>\n",
              "      <th>6326</th>\n",
              "      <td>36</td>\n",
              "      <td>12</td>\n",
              "    </tr>\n",
              "    <tr>\n",
              "      <th>6327</th>\n",
              "      <td>31</td>\n",
              "      <td>12</td>\n",
              "    </tr>\n",
              "  </tbody>\n",
              "</table>\n",
              "<p>6326 rows × 2 columns</p>\n",
              "</div>"
            ],
            "text/plain": [
              "      Tenure  Time in Job\n",
              "0          0            0\n",
              "1          0            0\n",
              "2          0            0\n",
              "3          0            0\n",
              "4          0            0\n",
              "...      ...          ...\n",
              "6323      35           12\n",
              "6324      36           11\n",
              "6325      25           11\n",
              "6326      36           12\n",
              "6327      31           12\n",
              "\n",
              "[6326 rows x 2 columns]"
            ]
          },
          "metadata": {},
          "execution_count": 175
        }
      ]
    },
    {
      "cell_type": "code",
      "metadata": {
        "colab": {
          "base_uri": "https://localhost:8080/",
          "height": 143
        },
        "id": "G6SZZRLipgYF",
        "outputId": "23e408f6-9ffb-4fff-e37f-c7587a1ad48b"
      },
      "source": [
        "prcnt = lambda x: np.round(x/x.sum()*100)\n",
        "tm_dif_cnt = u1.groupby(['Tenure','Time in Job'])['Tenure'].count().unstack().apply(prcnt, axis = 1)\n",
        "tm_dif_cnt.head(2)"
      ],
      "execution_count": null,
      "outputs": [
        {
          "output_type": "execute_result",
          "data": {
            "text/html": [
              "<div>\n",
              "<style scoped>\n",
              "    .dataframe tbody tr th:only-of-type {\n",
              "        vertical-align: middle;\n",
              "    }\n",
              "\n",
              "    .dataframe tbody tr th {\n",
              "        vertical-align: top;\n",
              "    }\n",
              "\n",
              "    .dataframe thead th {\n",
              "        text-align: right;\n",
              "    }\n",
              "</style>\n",
              "<table border=\"1\" class=\"dataframe\">\n",
              "  <thead>\n",
              "    <tr style=\"text-align: right;\">\n",
              "      <th>Time in Job</th>\n",
              "      <th>0</th>\n",
              "      <th>1</th>\n",
              "      <th>2</th>\n",
              "      <th>3</th>\n",
              "      <th>4</th>\n",
              "      <th>5</th>\n",
              "      <th>6</th>\n",
              "      <th>7</th>\n",
              "      <th>8</th>\n",
              "      <th>9</th>\n",
              "      <th>10</th>\n",
              "      <th>11</th>\n",
              "      <th>12</th>\n",
              "    </tr>\n",
              "    <tr>\n",
              "      <th>Tenure</th>\n",
              "      <th></th>\n",
              "      <th></th>\n",
              "      <th></th>\n",
              "      <th></th>\n",
              "      <th></th>\n",
              "      <th></th>\n",
              "      <th></th>\n",
              "      <th></th>\n",
              "      <th></th>\n",
              "      <th></th>\n",
              "      <th></th>\n",
              "      <th></th>\n",
              "      <th></th>\n",
              "    </tr>\n",
              "  </thead>\n",
              "  <tbody>\n",
              "    <tr>\n",
              "      <th>0</th>\n",
              "      <td>100.0</td>\n",
              "      <td>NaN</td>\n",
              "      <td>NaN</td>\n",
              "      <td>NaN</td>\n",
              "      <td>NaN</td>\n",
              "      <td>NaN</td>\n",
              "      <td>NaN</td>\n",
              "      <td>NaN</td>\n",
              "      <td>NaN</td>\n",
              "      <td>NaN</td>\n",
              "      <td>NaN</td>\n",
              "      <td>NaN</td>\n",
              "      <td>NaN</td>\n",
              "    </tr>\n",
              "    <tr>\n",
              "      <th>1</th>\n",
              "      <td>NaN</td>\n",
              "      <td>100.0</td>\n",
              "      <td>NaN</td>\n",
              "      <td>NaN</td>\n",
              "      <td>NaN</td>\n",
              "      <td>NaN</td>\n",
              "      <td>NaN</td>\n",
              "      <td>NaN</td>\n",
              "      <td>NaN</td>\n",
              "      <td>NaN</td>\n",
              "      <td>NaN</td>\n",
              "      <td>NaN</td>\n",
              "      <td>NaN</td>\n",
              "    </tr>\n",
              "  </tbody>\n",
              "</table>\n",
              "</div>"
            ],
            "text/plain": [
              "Time in Job     0      1   2   3   4   5   6   7   8   9   10  11  12\n",
              "Tenure                                                               \n",
              "0            100.0    NaN NaN NaN NaN NaN NaN NaN NaN NaN NaN NaN NaN\n",
              "1              NaN  100.0 NaN NaN NaN NaN NaN NaN NaN NaN NaN NaN NaN"
            ]
          },
          "metadata": {},
          "execution_count": 178
        }
      ]
    },
    {
      "cell_type": "code",
      "metadata": {
        "id": "cLkXj-drqV1b"
      },
      "source": [
        ""
      ],
      "execution_count": null,
      "outputs": []
    }
  ]
}